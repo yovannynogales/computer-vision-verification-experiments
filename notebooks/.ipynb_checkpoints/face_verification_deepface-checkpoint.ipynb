{
 "cells": [
  {
   "cell_type": "markdown",
   "metadata": {},
   "source": [
    "# Import dependencies"
   ]
  },
  {
   "cell_type": "code",
   "execution_count": 5,
   "metadata": {},
   "outputs": [
    {
     "ename": "ModuleNotFoundError",
     "evalue": "No module named 'deepface'",
     "output_type": "error",
     "traceback": [
      "\u001b[0;31m---------------------------------------------------------------------------\u001b[0m",
      "\u001b[0;31mModuleNotFoundError\u001b[0m                       Traceback (most recent call last)",
      "Cell \u001b[0;32mIn[5], line 1\u001b[0m\n\u001b[0;32m----> 1\u001b[0m \u001b[38;5;28;01mfrom\u001b[39;00m \u001b[38;5;21;01mdeepface\u001b[39;00m \u001b[38;5;28;01mimport\u001b[39;00m DeepFace\n\u001b[1;32m      2\u001b[0m \u001b[38;5;28;01mimport\u001b[39;00m \u001b[38;5;21;01mcv2\u001b[39;00m\n\u001b[1;32m      3\u001b[0m \u001b[38;5;28;01mimport\u001b[39;00m \u001b[38;5;21;01mmatplotlib\u001b[39;00m\u001b[38;5;21;01m.\u001b[39;00m\u001b[38;5;21;01mpyplot\u001b[39;00m \u001b[38;5;28;01mas\u001b[39;00m \u001b[38;5;21;01mplt\u001b[39;00m\n",
      "\u001b[0;31mModuleNotFoundError\u001b[0m: No module named 'deepface'"
     ]
    }
   ],
   "source": [
    "!conda install -c conda-forge deepface\n",
    "from deepface import DeepFace\n",
    "import cv2\n",
    "import matplotlib.pyplot as plt\n",
    "import os"
   ]
  },
  {
   "cell_type": "markdown",
   "metadata": {},
   "source": [
    "# Define function to read and verify images"
   ]
  },
  {
   "cell_type": "code",
   "execution_count": 2,
   "metadata": {},
   "outputs": [],
   "source": [
    "def verify(img1_path, img2_path, model_name):\n",
    "    img1= cv2.imread(img1_path)\n",
    "    img2= cv2.imread(img2_path)\n",
    "    \n",
    "    plt.imshow(img1[:,:,::-1])\n",
    "    plt.show()\n",
    "    plt.imshow(img2[:,:,::-1])\n",
    "    plt.show()\n",
    "    output = DeepFace.verify(img1_path, img2_path, model_name=model_name)\n",
    "\n",
    "    print(output)\n",
    "    \n",
    "    verification = output['verified']\n",
    "    \n",
    "    if verification:\n",
    "       print('They are same')\n",
    "    else:\n",
    "       print('The are not same')"
   ]
  },
  {
   "cell_type": "markdown",
   "metadata": {},
   "source": [
    "# Verify samples"
   ]
  },
  {
   "cell_type": "code",
   "execution_count": 3,
   "metadata": {},
   "outputs": [
    {
     "ename": "NameError",
     "evalue": "name 'os' is not defined",
     "output_type": "error",
     "traceback": [
      "\u001b[0;31m---------------------------------------------------------------------------\u001b[0m",
      "\u001b[0;31mNameError\u001b[0m                                 Traceback (most recent call last)",
      "Cell \u001b[0;32mIn[3], line 1\u001b[0m\n\u001b[0;32m----> 1\u001b[0m verify(\u001b[43mos\u001b[49m\u001b[38;5;241m.\u001b[39mpath(\u001b[38;5;124m'\u001b[39m\u001b[38;5;124mdata/faces/samples/img36.jpg\u001b[39m\u001b[38;5;124m'\u001b[39m), os\u001b[38;5;241m.\u001b[39mpath(\u001b[38;5;124m'\u001b[39m\u001b[38;5;124mdata/faces/samples/img37.jpg\u001b[39m\u001b[38;5;124m'\u001b[39m), \u001b[38;5;124m'\u001b[39m\u001b[38;5;124mVGG-Face\u001b[39m\u001b[38;5;124m'\u001b[39m)\n",
      "\u001b[0;31mNameError\u001b[0m: name 'os' is not defined"
     ]
    }
   ],
   "source": [
    "verify(os.path('data/faces/samples/img36.jpg'), os.path('data/faces/samples/img37.jpg'), 'VGG-Face')"
   ]
  },
  {
   "cell_type": "code",
   "execution_count": null,
   "metadata": {},
   "outputs": [],
   "source": [
    "verify(os.path('data/faces/samples/img3.jpg'), os.path('data/faces/samples/img28.jpg'), 'VGG-Face')"
   ]
  },
  {
   "cell_type": "code",
   "execution_count": null,
   "metadata": {},
   "outputs": [],
   "source": [
    "verify(os.path('data/faces/samples/pm1.jpg'), os.path('data/faces/samples/pm2.jpg'), 'Facenet')"
   ]
  },
  {
   "cell_type": "markdown",
   "metadata": {},
   "source": [
    "# Facial Attribute Analysis using Deepface"
   ]
  },
  {
   "cell_type": "code",
   "execution_count": null,
   "metadata": {},
   "outputs": [],
   "source": [
    "from deepface import DeepFace\n",
    "img = cv2.imread('img12.jpg')\n",
    "imgplot = plt.imshow(img)\n",
    "obj = DeepFace.analyze(img_path = os.path(\"data/faces/samples/img12.jpg\"), actions = ['age', 'gender', 'race', 'emotion'])\n",
    "print(obj[\"age\"],\" years old \",obj[\"dominant_race\"],\" \",obj[\"dominant_emotion\"],\" \", obj[\"gender\"])"
   ]
  }
 ],
 "metadata": {
  "kernelspec": {
   "display_name": "ml-projects",
   "language": "python",
   "name": "ml-projects"
  },
  "language_info": {
   "codemirror_mode": {
    "name": "ipython",
    "version": 3
   },
   "file_extension": ".py",
   "mimetype": "text/x-python",
   "name": "python",
   "nbconvert_exporter": "python",
   "pygments_lexer": "ipython3",
   "version": "3.13.0"
  }
 },
 "nbformat": 4,
 "nbformat_minor": 4
}
